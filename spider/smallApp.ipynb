{
 "metadata": {
  "language_info": {
   "codemirror_mode": {
    "name": "ipython",
    "version": 3
   },
   "file_extension": ".py",
   "mimetype": "text/x-python",
   "name": "python",
   "nbconvert_exporter": "python",
   "pygments_lexer": "ipython3",
   "version": "3.8.5-final"
  },
  "orig_nbformat": 2,
  "kernelspec": {
   "name": "Python 3.8.5 64-bit",
   "display_name": "Python 3.8.5 64-bit",
   "metadata": {
    "interpreter": {
     "hash": "aee8b7b246df8f9039afb4144a1f6fd8d2ca17a180786b69acc140d282b71a49"
    }
   }
  }
 },
 "nbformat": 4,
 "nbformat_minor": 2,
 "cells": [
  {
   "source": [
    "# 爬取猎聘网"
   ],
   "cell_type": "markdown",
   "metadata": {}
  },
  {
   "cell_type": "code",
   "execution_count": 30,
   "metadata": {},
   "outputs": [],
   "source": [
    "import requests\n",
    "import random\n",
    "import re\n",
    "import time\n",
    "from SpiderData import *"
   ]
  },
  {
   "cell_type": "code",
   "execution_count": 31,
   "metadata": {},
   "outputs": [],
   "source": [
    "# 爬虫-猎聘网\n",
    "\n",
    "# 猎聘网基础url\n",
    "url = 'https://www.liepin.com/zhaopin/?'\n",
    "\n",
    "# 待爬取的职位\n",
    "jobs = ['数据挖掘','图像算法工程师','java后端','互联网产品经理']\n",
    "# 待爬取的城市,和对应的dqs\n",
    "citys = ['北京','上海','深圳','广州','武汉','杭州']\n",
    "cityIds = ['010','020','050090','050020','170020','070020']\n",
    "\n",
    "# 用于匹配职位链接的Regular express\n",
    "regExp = '<a[^>]*href=\\\"(https://www.liepin.com/job[^\"]*)\\\"[^>]*'"
   ]
  },
  {
   "cell_type": "code",
   "execution_count": 32,
   "metadata": {},
   "outputs": [],
   "source": [
    "def UA():\n",
    "    \"\"\" 随机生成合适的UA,用于设置爬虫的参数 \"\"\"\n",
    "    ua = random.choice(uapools)\n",
    "    return {'User-Agent': ua}\n",
    "\n",
    "def test_Unit():\n",
    "    url_test = 'https://www.zhipin.com/c101200100/?ka=open_joblist'\n",
    "\n",
    "    r_test = requests.get(url=url_test,headers=UA())\n",
    "    time.sleep(0.1)\n",
    "    if '<!DOCTYPE html>' in r_test.text:\n",
    "        print('test pass!')\n",
    "    r_test.close()\n",
    "\n",
    "def test_spider():\n",
    "    url = 'https://www.liepin.com/zhaopin/?'\n",
    "    job = '数据挖掘'\n",
    "    cityId = '010'\n",
    "\n",
    "\n",
    "    url_target = url+'key='+job\n",
    "\n",
    "    url_target_final = url_target+'&dqs='+cityId\n",
    "\n",
    "    print(url_target)\n",
    "    \n",
    "    data_orgin = requests.get(url=url_target_final,headers=UA())\n",
    "    data_html = data_orgin.content.decode(\"utf-8\")\n",
    "\n",
    "    data_reGet = re.compile(regExp).findall(data_html)\n",
    "\n",
    "    print(data_reGet)\n"
   ]
  },
  {
   "cell_type": "code",
   "execution_count": 33,
   "metadata": {
    "tags": []
   },
   "outputs": [
    {
     "output_type": "stream",
     "name": "stdout",
     "text": "数据挖掘\nhttps://www.liepin.com/zhaopin/?key=数据挖掘&dqs=010\nget data success!\nhttps://www.liepin.com/job/1927529677.shtml\nhttps://www.liepin.com/job/1932067191.shtml\nhttps://www.liepin.com/job/1932050659.shtml\nhttps://www.liepin.com/job/1932045987.shtml\nhttps://www.liepin.com/job/1931977255.shtml\nhttps://www.liepin.com/job/1931836831.shtml\nhttps://www.liepin.com/job/1931369075.shtml\nhttps://www.liepin.com/job/1930596033.shtml\nhttps://www.liepin.com/job/1926774731.shtml\nhttps://www.liepin.com/job/1925844503.shtml\nhttps://www.liepin.com/job/1925294351.shtml\nhttps://www.liepin.com/zhaopin/?key=数据挖掘&dqs=020\nget data success!\nhttps://www.liepin.com/job/1925619589.shtml\nhttps://www.liepin.com/job/1928085611.shtml\nhttps://www.liepin.com/job/1932038581.shtml\nhttps://www.liepin.com/job/1910718802.shtml\nhttps://www.liepin.com/job/1932095895.shtml\nhttps://www.liepin.com/job/1931829953.shtml\nhttps://www.liepin.com/job/1931828671.shtml\nhttps://www.liepin.com/job/1931110601.shtml\nhttps://www.liepin.com/job/1931098875.shtml\nhttps://www.liepin.com/job/1931020861.shtml\nhttps://www.liepin.com/job/1930127123.shtml\nhttps://www.liepin.com/job/1929716549.shtml\nhttps://www.liepin.com/job/1929488803.shtml\nhttps://www.liepin.com/job/1929296037.shtml\nhttps://www.liepin.com/job/1929282591.shtml\nhttps://www.liepin.com/job/1928856713.shtml\nhttps://www.liepin.com/job/1926808897.shtml\nhttps://www.liepin.com/job/1926009227.shtml\nhttps://www.liepin.com/job/1925844505.shtml\nhttps://www.liepin.com/job/1925054171.shtml\nhttps://www.liepin.com/job/1924700527.shtml\nhttps://www.liepin.com/job/1921980101.shtml\nhttps://www.liepin.com/job/1921766139.shtml\nhttps://www.liepin.com/zhaopin/?key=数据挖掘&dqs=050090\nget data success!\nhttps://www.liepin.com/job/1932057241.shtml\nhttps://www.liepin.com/job/1932056297.shtml\nhttps://www.liepin.com/job/1932056293.shtml\nhttps://www.liepin.com/job/1932056285.shtml\nhttps://www.liepin.com/job/1931430031.shtml\nhttps://www.liepin.com/job/1930246021.shtml\nhttps://www.liepin.com/job/1926691727.shtml\nhttps://www.liepin.com/job/1925844509.shtml\nhttps://www.liepin.com/job/1924700525.shtml\nhttps://www.liepin.com/job/1921886391.shtml\nhttps://www.liepin.com/job/1931996669.shtml\nhttps://www.liepin.com/job/1930078513.shtml\nhttps://www.liepin.com/job/1927922565.shtml\nhttps://www.liepin.com/job/1926326847.shtml\nhttps://www.liepin.com/job/1925885727.shtml\nhttps://www.liepin.com/job/1925035721.shtml\nhttps://www.liepin.com/zhaopin/?key=数据挖掘&dqs=050020\nget data success!\nhttps://www.liepin.com/job/1932073679.shtml\nhttps://www.liepin.com/job/1931982463.shtml\nhttps://www.liepin.com/job/1932077331.shtml\nhttps://www.liepin.com/job/1932062139.shtml\nhttps://www.liepin.com/job/1931998611.shtml\nhttps://www.liepin.com/job/1931998609.shtml\nhttps://www.liepin.com/job/1931661171.shtml\nhttps://www.liepin.com/job/1931424761.shtml\nhttps://www.liepin.com/job/1931371363.shtml\nhttps://www.liepin.com/job/1930366331.shtml\nhttps://www.liepin.com/job/1927646783.shtml\nhttps://www.liepin.com/job/1926716871.shtml\nhttps://www.liepin.com/job/1926206729.shtml\nhttps://www.liepin.com/job/1925844525.shtml\nhttps://www.liepin.com/job/1925583723.shtml\nhttps://www.liepin.com/job/1930607801.shtml\nhttps://www.liepin.com/job/1929338503.shtml\nhttps://www.liepin.com/job/1931944599.shtml\nhttps://www.liepin.com/job/1931935549.shtml\nhttps://www.liepin.com/job/1931607517.shtml\nhttps://www.liepin.com/job/1929684091.shtml\nhttps://www.liepin.com/job/1931804149.shtml\nhttps://www.liepin.com/job/1929952701.shtml\nhttps://www.liepin.com/job/1928596295.shtml\nhttps://www.liepin.com/job/1928596281.shtml\nhttps://www.liepin.com/zhaopin/?key=数据挖掘&dqs=170020\nget data success!\nhttps://www.liepin.com/job/1932098017.shtml\nhttps://www.liepin.com/job/1928856725.shtml\nhttps://www.liepin.com/job/1925844507.shtml\nhttps://www.liepin.com/job/1919192837.shtml\nhttps://www.liepin.com/job/1926302469.shtml\nhttps://www.liepin.com/job/1920157717.shtml\nhttps://www.liepin.com/job/1920157519.shtml\nhttps://www.liepin.com/job/1927196107.shtml\nhttps://www.liepin.com/job/1923679621.shtml\nhttps://www.liepin.com/job/1931355255.shtml\nhttps://www.liepin.com/job/1920102551.shtml\nhttps://www.liepin.com/job/1916757329.shtml\nhttps://www.liepin.com/job/1922974927.shtml\nhttps://www.liepin.com/job/1921063459.shtml\nhttps://www.liepin.com/job/1924042203.shtml\nhttps://www.liepin.com/job/1921970561.shtml\nhttps://www.liepin.com/job/1912703797.shtml\nhttps://www.liepin.com/job/1925815351.shtml\nhttps://www.liepin.com/job/1925159787.shtml\nhttps://www.liepin.com/job/1918056681.shtml\nhttps://www.liepin.com/job/1915103396.shtml\nhttps://www.liepin.com/job/1932023881.shtml\nhttps://www.liepin.com/job/1932098311.shtml\nhttps://www.liepin.com/job/1931554497.shtml\nhttps://www.liepin.com/job/1931369715.shtml\nhttps://www.liepin.com/job/1927532765.shtml\nhttps://www.liepin.com/job/1925887989.shtml\nhttps://www.liepin.com/job/1932058209.shtml\nhttps://www.liepin.com/job/1932024867.shtml\nhttps://www.liepin.com/job/1931815827.shtml\nhttps://www.liepin.com/job/1931570283.shtml\nhttps://www.liepin.com/zhaopin/?key=数据挖掘&dqs=070020\nget data success!\nhttps://www.liepin.com/job/1931346361.shtml\nhttps://www.liepin.com/job/1931049123.shtml\nhttps://www.liepin.com/job/1925844511.shtml\nhttps://www.liepin.com/job/1924582179.shtml\nhttps://www.liepin.com/job/1912509174.shtml\nhttps://www.liepin.com/job/1931990643.shtml\nhttps://www.liepin.com/job/1927644075.shtml\nhttps://www.liepin.com/job/1927361897.shtml\nhttps://www.liepin.com/job/1927361475.shtml\nhttps://www.liepin.com/job/1926042609.shtml\nhttps://www.liepin.com/job/1923874997.shtml\nhttps://www.liepin.com/job/1922324275.shtml\nhttps://www.liepin.com/job/1913960521.shtml\nhttps://www.liepin.com/job/1931057579.shtml\nhttps://www.liepin.com/job/1931042159.shtml\nhttps://www.liepin.com/job/1929400797.shtml\nhttps://www.liepin.com/job/1928545997.shtml\nhttps://www.liepin.com/job/1927839787.shtml\nhttps://www.liepin.com/job/1927839785.shtml\nhttps://www.liepin.com/job/1927274193.shtml\nhttps://www.liepin.com/job/1928000191.shtml\nhttps://www.liepin.com/job/1927401287.shtml\nhttps://www.liepin.com/job/1924761323.shtml\nhttps://www.liepin.com/job/1931770209.shtml\nhttps://www.liepin.com/job/1924050751.shtml\nhttps://www.liepin.com/job/1920157711.shtml\n图像算法工程师\nhttps://www.liepin.com/zhaopin/?key=图像算法工程师&dqs=010\nget data success!\nhttps://www.liepin.com/job/1932057625.shtml\nhttps://www.liepin.com/job/1932057613.shtml\nhttps://www.liepin.com/job/1932047575.shtml\nhttps://www.liepin.com/job/1931530019.shtml\nhttps://www.liepin.com/job/1931230443.shtml\nhttps://www.liepin.com/job/1930097359.shtml\nhttps://www.liepin.com/job/1928257845.shtml\nhttps://www.liepin.com/job/1926694131.shtml\nhttps://www.liepin.com/job/1926396145.shtml\nhttps://www.liepin.com/job/1926009611.shtml\nhttps://www.liepin.com/job/1925631603.shtml\nhttps://www.liepin.com/job/1924537703.shtml\nhttps://www.liepin.com/zhaopin/?key=图像算法工程师&dqs=020\nget data success!\nhttps://www.liepin.com/job/1932082581.shtml\nhttps://www.liepin.com/job/1932056113.shtml\nhttps://www.liepin.com/job/1932031489.shtml\nhttps://www.liepin.com/job/1931774797.shtml\nhttps://www.liepin.com/job/1931727053.shtml\nhttps://www.liepin.com/job/1931721933.shtml\nhttps://www.liepin.com/job/1931486067.shtml\nhttps://www.liepin.com/job/1931443285.shtml\nhttps://www.liepin.com/job/1931443087.shtml\nhttps://www.liepin.com/job/1931351113.shtml\nhttps://www.liepin.com/job/1931344521.shtml\nhttps://www.liepin.com/job/1931186011.shtml\nhttps://www.liepin.com/job/1931078243.shtml\nhttps://www.liepin.com/job/1930842129.shtml\nhttps://www.liepin.com/job/1930053733.shtml\nhttps://www.liepin.com/job/1929652365.shtml\nhttps://www.liepin.com/job/1929528325.shtml\nhttps://www.liepin.com/job/1929430815.shtml\nhttps://www.liepin.com/job/1928848057.shtml\nhttps://www.liepin.com/job/1927774005.shtml\nhttps://www.liepin.com/job/1927654221.shtml\nhttps://www.liepin.com/job/1927474355.shtml\nhttps://www.liepin.com/job/1927417079.shtml\nhttps://www.liepin.com/job/1926912819.shtml\nhttps://www.liepin.com/job/1926593015.shtml\nhttps://www.liepin.com/job/1926009615.shtml\nhttps://www.liepin.com/job/1925969611.shtml\nhttps://www.liepin.com/job/1924537705.shtml\nhttps://www.liepin.com/job/1923663769.shtml\nhttps://www.liepin.com/job/1922368037.shtml\nhttps://www.liepin.com/zhaopin/?key=图像算法工程师&dqs=050090\nget data success!\nhttps://www.liepin.com/job/1932060041.shtml\nhttps://www.liepin.com/job/1932056103.shtml\nhttps://www.liepin.com/job/1932009487.shtml\nhttps://www.liepin.com/job/1931810689.shtml\nhttps://www.liepin.com/job/1931721935.shtml\nhttps://www.liepin.com/job/1931611549.shtml\nhttps://www.liepin.com/job/1931574939.shtml\nhttps://www.liepin.com/job/1931546677.shtml\nhttps://www.liepin.com/job/1931393271.shtml\nhttps://www.liepin.com/job/1931296943.shtml\nhttps://www.liepin.com/job/1931250081.shtml\nhttps://www.liepin.com/job/1930894861.shtml\nhttps://www.liepin.com/job/1929753759.shtml\nhttps://www.liepin.com/job/1929748765.shtml\nhttps://www.liepin.com/job/1928830137.shtml\nhttps://www.liepin.com/job/1928403263.shtml\nhttps://www.liepin.com/job/1928184663.shtml\nhttps://www.liepin.com/job/1927930017.shtml\nhttps://www.liepin.com/job/1927834923.shtml\nhttps://www.liepin.com/job/1927601267.shtml\nhttps://www.liepin.com/job/1927478855.shtml\nhttps://www.liepin.com/job/1927003083.shtml\nhttps://www.liepin.com/job/1926273933.shtml\nhttps://www.liepin.com/job/1926009613.shtml\nhttps://www.liepin.com/job/1925382493.shtml\nhttps://www.liepin.com/job/1924537701.shtml\nhttps://www.liepin.com/job/1924166961.shtml\nhttps://www.liepin.com/job/1922867477.shtml\nhttps://www.liepin.com/zhaopin/?key=图像算法工程师&dqs=050020\nget data success!\nhttps://www.liepin.com/job/1930652841.shtml\nhttps://www.liepin.com/job/1930165841.shtml\n"
    }
   ],
   "source": [
    "for job in jobs:\n",
    "    print(job)\n",
    "\n",
    "    url_target = url+'key='+job\n",
    "\n",
    "    for cityId in cityIds:\n",
    "        url_target_final = url_target+'&dqs='+cityId\n",
    "\n",
    "        print(url_target_final)\n",
    "\n",
    "        data_orgin = requests.get(url=url_target_final,headers=UA())\n",
    "        data_html = data_orgin.content.decode(\"utf-8\")\n",
    "\n",
    "        if '<!DOCTYPE html>' in data_orgin.text and job in data_orgin.text:\n",
    "            print('get data success!')\n",
    "        \n",
    "        data_reGet = re.compile(regExp).findall(data_html)\n",
    "        \n",
    "        for url_a in data_reGet:\n",
    "            print(url_a)\n",
    "            time.sleep(0.5)\n",
    "\n",
    "    time.sleep(1)"
   ]
  },
  {
   "cell_type": "code",
   "execution_count": null,
   "metadata": {
    "tags": []
   },
   "outputs": [],
   "source": [
    "# Function test\n",
    "test_Unit()\n",
    "test_spider()"
   ]
  }
 ]
}