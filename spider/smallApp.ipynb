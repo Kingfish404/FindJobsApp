{
 "metadata": {
  "language_info": {
   "codemirror_mode": {
    "name": "ipython",
    "version": 3
   },
   "file_extension": ".py",
   "mimetype": "text/x-python",
   "name": "python",
   "nbconvert_exporter": "python",
   "pygments_lexer": "ipython3",
   "version": "3.8.5-final"
  },
  "orig_nbformat": 2,
  "kernelspec": {
   "name": "python_defaultSpec_1600590170026",
   "display_name": "Python 3.8.5 64-bit"
  }
 },
 "nbformat": 4,
 "nbformat_minor": 2,
 "cells": [
  {
   "source": [
    "# 爬取猎聘网"
   ],
   "cell_type": "markdown",
   "metadata": {}
  },
  {
   "cell_type": "code",
   "execution_count": 154,
   "metadata": {},
   "outputs": [],
   "source": [
    "import requests\n",
    "import random\n",
    "import re\n",
    "import time\n",
    "from SpiderData import *"
   ]
  },
  {
   "cell_type": "code",
   "execution_count": 155,
   "metadata": {},
   "outputs": [],
   "source": [
    "def UA():\n",
    "    \"\"\" 随机生成合适的UA,用于设置爬虫的参数 \"\"\"\n",
    "    ua = random.choice(uapools)\n",
    "    return {'User-Agent': ua}\n",
    "\n",
    "def test_Unit():\n",
    "    url_test = 'https://www.zhipin.com/c101200100/?ka=open_joblist'\n",
    "\n",
    "    r_test = requests.get(url=url_test,headers=UA())\n",
    "    time.sleep(1)\n",
    "    if '<!DOCTYPE html>' in r_test.text:\n",
    "        print('test pass!')\n",
    "    r_test.close()"
   ]
  },
  {
   "cell_type": "code",
   "execution_count": 156,
   "metadata": {
    "tags": []
   },
   "outputs": [
    {
     "output_type": "stream",
     "name": "stdout",
     "text": "test pass!\n"
    }
   ],
   "source": [
    "# Function test\n",
    "test_Unit()"
   ]
  },
  {
   "cell_type": "code",
   "execution_count": 157,
   "metadata": {},
   "outputs": [],
   "source": [
    "# 爬虫-猎聘网\n",
    "\n",
    "# 猎聘网基础url\n",
    "url = 'https://www.liepin.com/zhaopin/?'\n",
    "\n",
    "# 待爬取的职位\n",
    "jobs = ['数据挖掘','图像算法工程师','java后端','互联网产品经理']\n",
    "# 待爬取的城市,和对应的dqs\n",
    "citys = ['北京','上海','深圳','广州','武汉','杭州']\n",
    "cityIds = ['10','20','050090','050020','170020','070020']"
   ]
  },
  {
   "cell_type": "code",
   "execution_count": 163,
   "metadata": {
    "tags": []
   },
   "outputs": [
    {
     "output_type": "stream",
     "name": "stdout",
     "text": "get data success!\n数据挖掘\nget data success!\n图像算法工程师\nget data success!\njava后端\nget data success!\n互联网产品经理\n"
    }
   ],
   "source": [
    "for job in jobs:\n",
    "    url_target = url+'key='+job\n",
    "\n",
    "    data_orgin = requests.get(url=url_target,headers=UA())\n",
    "    if '<!DOCTYPE html>' in data_orgin.text:\n",
    "        print('get data success!')\n",
    "\n",
    "    time.sleep(1)\n",
    "    print(job)"
   ]
  },
  {
   "cell_type": "code",
   "execution_count": null,
   "metadata": {},
   "outputs": [],
   "source": []
  }
 ]
}