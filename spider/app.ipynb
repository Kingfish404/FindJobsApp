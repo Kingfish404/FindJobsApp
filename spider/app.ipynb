{
 "metadata": {
  "language_info": {
   "codemirror_mode": {
    "name": "ipython",
    "version": 3
   },
   "file_extension": ".py",
   "mimetype": "text/x-python",
   "name": "python",
   "nbconvert_exporter": "python",
   "pygments_lexer": "ipython3",
   "version": "3.8.5-final"
  },
  "orig_nbformat": 2,
  "kernelspec": {
   "name": "python_defaultSpec_1600590129778",
   "display_name": "Python 3.8.5 64-bit"
  }
 },
 "nbformat": 4,
 "nbformat_minor": 2,
 "cells": [
  {
   "source": [
    "# 爬Boss直聘"
   ],
   "cell_type": "markdown",
   "metadata": {}
  },
  {
   "cell_type": "code",
   "execution_count": 1,
   "metadata": {},
   "outputs": [],
   "source": [
    "import requests\n",
    "from bs4 import BeautifulSoup\n",
    "import re\n",
    "import json"
   ]
  },
  {
   "cell_type": "code",
   "execution_count": null,
   "metadata": {},
   "outputs": [],
   "source": [
    "URL = 'https://www.zhipin.com/job_detail/?ka=header-job'"
   ]
  },
  {
   "cell_type": "code",
   "execution_count": null,
   "metadata": {},
   "outputs": [],
   "source": [
    "cookieMy = \"lastCity=101200100; Hm_lvt_194df3105ad7148dcf2b98a91b5e727a=1598271855,1598271890,1600141523,1600389520; __g=-; __c=1600389522; __l=l=%2Fwww.zhipin.com%2Fjob_detail%2F%3Fka%3Dheader-job&r=&g=&friend_source=0&friend_source=0; __a=45675980.1598271857.1600141523.1600389522.19.3.14.19; Hm_lpvt_194df3105ad7148dcf2b98a91b5e727a=1600394888; __zp_stoken__=6f23bADloAEc7aRlWeQwrIEBRPB9uWBhSXHpWSD1uNAVCEi5CO2weAVInTHNAOCchLRxSbURfcUhELRYuSGogfyh8IFllS15uYFhEVHsJEGJvSSMgAyFKUFIdb3RXdSsDK01YfnV3dTw0VUFNPg%3D%3D; __zp_sseed__=/5UO2EAVrIuCfkTISj8PAxRkSkyM7nWdDTDLKsqu4gA=; __zp_sname__=ce0315c8; __zp_sts__=1600394901697\"\n",
    "\n",
    "uapools = [\n",
    "    'Mozilla/5.0 (Windows NT 10.0; Win64; x64) AppleWebKit/537.36 (KHTML, like Gecko) Chrome/80.0.3987.106 Safari/537.36 Edg/80.0.361.54'\n",
    "    'Mozilla/5.0 (Windows NT 10.0; Win64; x64) AppleWebKit/537.36 (KHTML, like Gecko) Chrome/80.0.3987.87 Safari/537.36'\n",
    "    'Mozilla/5.0 (Windows NT 10.0; Win64; x64; rv:72.0) Gecko/20100101 Firefox/72.0'\n",
    "    'Mozilla/5.0 (Windows NT 10.0; Win64; x64; rv:73.0) Gecko/20100101 Firefox/73.0'\n",
    "]"
   ]
  }
 ]
}